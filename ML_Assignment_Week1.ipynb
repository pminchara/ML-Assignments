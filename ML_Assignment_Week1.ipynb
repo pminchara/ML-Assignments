{
  "nbformat": 4,
  "nbformat_minor": 0,
  "metadata": {
    "colab": {
      "name": "ML_Assignment_Week1",
      "provenance": [],
      "collapsed_sections": [],
      "mount_file_id": "19W2b2YcmqErWyP6b0xL8fr4F3VMXvivQ",
      "authorship_tag": "ABX9TyMFCDJ95VDCEewR5Zi3Dojb"
    },
    "kernelspec": {
      "name": "python3",
      "display_name": "Python 3"
    }
  },
  "cells": [
    {
      "cell_type": "markdown",
      "metadata": {
        "id": "A6lqQpf84ptc"
      },
      "source": [
        "## **ML Week1 Assignment**\n",
        "\n",
        "**Inchara Polepalli Muneshkumar**\n",
        "\n",
        "Student ID - **20307270**\n",
        "\n",
        "Dataset ID - 2--597.6-12"
      ]
    },
    {
      "cell_type": "markdown",
      "metadata": {
        "id": "zRz2BPrv8tw_"
      },
      "source": [
        "This is my implementation for the Week 1 assignment of Machine learning module. I have implemented the entire solution to the assignment in Google Colaboratory Notebook. The implementation code has been explained throughout the notebook and the notebook has been converted to PDF format for submission."
      ]
    },
    {
      "cell_type": "markdown",
      "metadata": {
        "id": "BKRi3SuI9sgX"
      },
      "source": [
        "**Question a)**\n",
        "\n",
        "**i) Reading the downloaded dataset.**"
      ]
    },
    {
      "cell_type": "code",
      "metadata": {
        "id": "sOq0n25lvuNv"
      },
      "source": [
        "import numpy as np\n",
        "import pandas as pd"
      ],
      "execution_count": null,
      "outputs": []
    },
    {
      "cell_type": "markdown",
      "metadata": {
        "id": "taekrrq_RGj7"
      },
      "source": [
        "numpy and pandas is used for data manipulation purposes."
      ]
    },
    {
      "cell_type": "code",
      "metadata": {
        "id": "Hm4oRPFSv7kh"
      },
      "source": [
        "df = pd.read_csv(\"/content/drive/My Drive/ML/Dataset.csv\", comment='#', header=None)"
      ],
      "execution_count": null,
      "outputs": []
    },
    {
      "cell_type": "markdown",
      "metadata": {
        "id": "9SSRvafz73Nv"
      },
      "source": [
        "The above piece of code is using to read the dataset from the csv file. A dataframe 'df' is created to read the csv file.\n",
        "\n",
        "\\# is use for comments in the the csv and hence statements starting with \\# is ignored.\n",
        "\n",
        "There is no header in the dataset and hence header was set with None. If this is not specified, in my observation, the first entry was considered as the header."
      ]
    },
    {
      "cell_type": "code",
      "metadata": {
        "id": "dRuAy_WvxWKF",
        "colab": {
          "base_uri": "https://localhost:8080/",
          "height": 118
        },
        "outputId": "9667a5f6-ac15-4b95-8424-d923ab3ec660"
      },
      "source": [
        "print(df.head())"
      ],
      "execution_count": null,
      "outputs": [
        {
          "output_type": "stream",
          "text": [
            "   0           1\n",
            "0  0 -419.315394\n",
            "1  1  398.089328\n",
            "2  2 -365.775258\n",
            "3  3 -451.766992\n",
            "4  4 -287.880726\n"
          ],
          "name": "stdout"
        }
      ]
    },
    {
      "cell_type": "markdown",
      "metadata": {
        "id": "xo4i1H6WSJ04"
      },
      "source": [
        "The above statement is used to print the first 5 entries of the dataset"
      ]
    },
    {
      "cell_type": "code",
      "metadata": {
        "id": "zfzClKapkXW3"
      },
      "source": [
        "X = np.array(df.iloc[:,0]); X = X.reshape(-1,1)\n",
        "y = np.array(df.iloc[:,1]); y = y.reshape(-1,1)"
      ],
      "execution_count": null,
      "outputs": []
    },
    {
      "cell_type": "markdown",
      "metadata": {
        "id": "qW23Zfb6_V3r"
      },
      "source": [
        "**Question a)**\n",
        "\n",
        "**ii) Normalization of the data**"
      ]
    },
    {
      "cell_type": "code",
      "metadata": {
        "id": "84d2PI1vGpRI",
        "colab": {
          "base_uri": "https://localhost:8080/",
          "height": 252
        },
        "outputId": "c54f9129-54c1-43fc-9a48-67fa4cddccd6"
      },
      "source": [
        "normalized_df=(df-df.mean())/df.std()\n",
        "print(normalized_df)"
      ],
      "execution_count": null,
      "outputs": [
        {
          "output_type": "stream",
          "text": [
            "            0         1\n",
            "0   -1.726850 -1.790378\n",
            "1   -1.719915 -0.880180\n",
            "2   -1.712980 -1.730760\n",
            "3   -1.706045 -1.826514\n",
            "4   -1.699110 -1.644023\n",
            "..        ...       ...\n",
            "494  1.699110  1.660048\n",
            "495  1.706045  1.310841\n",
            "496  1.712980  1.526771\n",
            "497  1.719915  1.988680\n",
            "498  1.726850  1.492190\n",
            "\n",
            "[499 rows x 2 columns]\n"
          ],
          "name": "stdout"
        }
      ]
    },
    {
      "cell_type": "markdown",
      "metadata": {
        "id": "SdsoIExd8sKn"
      },
      "source": [
        "The dataset is normalized using the mean and standard deviation.\n",
        "Each entry (input, output) in the dataset is subtracted by the mean and is divided by the standard deviation.\n",
        "This is done to keep the values within a small range, which helps in training the model in a better way."
      ]
    },
    {
      "cell_type": "code",
      "metadata": {
        "id": "-cUQIaRjOii5"
      },
      "source": [
        "import matplotlib.pyplot as plt\n",
        "import seaborn as sns\n",
        "sns.set_style(\"darkgrid\")\n",
        "%matplotlib inline"
      ],
      "execution_count": null,
      "outputs": []
    },
    {
      "cell_type": "markdown",
      "metadata": {
        "id": "6n9yAI7C9DJb"
      },
      "source": [
        "The above import and style statements are used for data visualisation"
      ]
    },
    {
      "cell_type": "code",
      "metadata": {
        "id": "NQv3mfa6P6z2",
        "colab": {
          "base_uri": "https://localhost:8080/",
          "height": 279
        },
        "outputId": "d22f8012-4657-4fc4-d906-8040fbce1cce"
      },
      "source": [
        "plt.scatter(df[0].values,df[1].values)\n",
        "plt.xlabel(\"input x\"); plt.ylabel(\"output y\")\n",
        "plt.legend([\"Data points\"])\n",
        "plt.show()"
      ],
      "execution_count": null,
      "outputs": [
        {
          "output_type": "display_data",
          "data": {
            "image/png": "[encoded data removed]",
            "text/plain": [
              "<Figure size 432x288 with 1 Axes>"
            ]
          },
          "metadata": {
            "tags": [],
            "needs_background": "light"
          }
        }
      ]
    },
    {
      "cell_type": "markdown",
      "metadata": {
        "id": "4n-AaSHsTthV"
      },
      "source": [
        "The above plot depicts the distribution of datapoints in the dataset before normalization. It can be observed that x ranges from 0 to 500 and y ranges from -1000 to 3254"
      ]
    },
    {
      "cell_type": "code",
      "metadata": {
        "id": "eiYZcA4rQEJf",
        "colab": {
          "base_uri": "https://localhost:8080/",
          "height": 279
        },
        "outputId": "36856268-69bc-41f9-acd7-d44b378400cb"
      },
      "source": [
        "plt.scatter(normalized_df[0].values,normalized_df[1].values)\n",
        "plt.xlabel(\"normalized x\"); plt.ylabel(\"normalized y\")\n",
        "plt.legend([\"Normalized data points\"])\n",
        "plt.show()"
      ],
      "execution_count": null,
      "outputs": [
        {
          "output_type": "display_data",
          "data": {
            "image/png": "[encoded data removed]",
            "text/plain": [
              "<Figure size 432x288 with 1 Axes>"
            ]
          },
          "metadata": {
            "tags": [],
            "needs_background": "light"
          }
        }
      ]
    },
    {
      "cell_type": "markdown",
      "metadata": {
        "id": "LOZPSKdzU3Cq"
      },
      "source": [
        "The above plot depicts the dataset after normalisation. It can be observed that x ranges from -2 to 2 and y ranges from -2.5 to 2.5"
      ]
    },
    {
      "cell_type": "markdown",
      "metadata": {
        "id": "QUuhCdW0_2Ja"
      },
      "source": [
        "**Question a)**\n",
        "\n",
        "**iii) Gradient Descent and Linear Regression**"
      ]
    },
    {
      "cell_type": "code",
      "metadata": {
        "id": "3szuciHipMnj"
      },
      "source": [
        "def gradient_descent(learning_rate, epochs, plotting):\n",
        "\n",
        "  n = len(normalized_df[0])\n",
        "  theta_1 = 0\n",
        "  theta_0 = 0\n",
        "  costs = []\n",
        "\n",
        "  for epoch in range(epochs):\n",
        "\n",
        "    cost = 0\n",
        "\n",
        "    for x, y in zip(normalized_df[0], normalized_df[1]):\n",
        "      cost += (1/n)*((y - (theta_1 * x + theta_0)) ** 2)\n",
        "      delta_theta_1 = -(1/n) * 2 * (y -(theta_1 * x + theta_0)) * x\n",
        "      delta_theta_0 = -(1/n) * 2 * (y - (theta_1 * x + theta_0))\n",
        "\n",
        "      theta_1_update = learning_rate * delta_theta_1\n",
        "      theta_0_update = learning_rate * delta_theta_0\n",
        "\n",
        "      theta_1 -= theta_1_update\n",
        "      theta_0 -= theta_0_update\n",
        "\n",
        "    costs.append(cost)\n",
        "\n",
        "  if(plotting):\n",
        "    plt.plot(costs)\n",
        "    plt.xlabel(\"epochs\"); plt.ylabel(\"cost\")\n",
        "  return theta_1, theta_0, costs[-1]"
      ],
      "execution_count": null,
      "outputs": []
    },
    {
      "cell_type": "markdown",
      "metadata": {
        "id": "SPVUVPHU38mk"
      },
      "source": [
        "Gradient descent is an optimization algorithm used to optimize the training process of machine learning model. An objective function is minimized by updating the parameters. The steps taken to reach the minimum is decided by learning rate. Different values of theta0 and theta1 are used and the cost is calculated throughout the process. The values of theta0 and theta1 that provide the least cost are chosen for the model. The above code is an implementation of gradient descent in vanilla python, it takes the learning rate and number of iterations as parameters. It also plots the cost throughout the iterations."
      ]
    },
    {
      "cell_type": "code",
      "metadata": {
        "id": "3NCs6HJg5xd0"
      },
      "source": [
        "def linear_reg(z):\n",
        "  theta_1, theta_0, cost = gradient_descent(0.005,1000,False)\n",
        "  return theta_1*z + theta_0"
      ],
      "execution_count": null,
      "outputs": []
    },
    {
      "cell_type": "markdown",
      "metadata": {
        "id": "nsJG_RY7lI7E"
      },
      "source": [
        "The above code represents the linear regression model which uses gradient descent to determine the theta values.\n",
        "\n",
        "Since its a linear model the equation would be y = mx + c and the same is used in the code to make predictions. Basically we are trying to plot a line that best fits the data points in the dataset.\n",
        "I am using 0.005 as the learning rate as I found this to be reasonable and optimal. This value is neither too big to miss the minimum nor too small to take a really long time to converge to the mininum."
      ]
    },
    {
      "cell_type": "markdown",
      "metadata": {
        "id": "C1dQahKEBfqw"
      },
      "source": [
        "**Question b)**\n",
        "\n",
        "**i) Different learning rates - 0.1, 0.01, 0.001**"
      ]
    },
    {
      "cell_type": "code",
      "metadata": {
        "id": "Lb037NuY_yN0",
        "colab": {
          "base_uri": "https://localhost:8080/",
          "height": 296
        },
        "outputId": "78c4afd8-d96e-48bc-dc7c-b572eae7083e"
      },
      "source": [
        "gradient_descent(0.1,200,True)"
      ],
      "execution_count": null,
      "outputs": [
        {
          "output_type": "execute_result",
          "data": {
            "text/plain": [
              "(0.9430998464503256, -4.3111582604814206e-05, 0.1110756307667723)"
            ]
          },
          "metadata": {
            "tags": []
          },
          "execution_count": 180
        },
        {
          "output_type": "display_data",
          "data": {
            "image/png": "[encoded data removed]",
            "text/plain": [
              "<Figure size 432x288 with 1 Axes>"
            ]
          },
          "metadata": {
            "tags": [],
            "needs_background": "light"
          }
        }
      ]
    },
    {
      "cell_type": "markdown",
      "metadata": {
        "id": "51d_gsitgjJp"
      },
      "source": [
        "The above plot shows the cost at each iteration when the learning rate is 0.1\n",
        "There is a steep decrease in the cost as the step size is big."
      ]
    },
    {
      "cell_type": "code",
      "metadata": {
        "id": "vIWHERvC_4NM",
        "colab": {
          "base_uri": "https://localhost:8080/",
          "height": 296
        },
        "outputId": "435f0bcc-5dce-474b-a90c-35cc4a9a66e6"
      },
      "source": [
        "gradient_descent(0.01,200,True)"
      ],
      "execution_count": null,
      "outputs": [
        {
          "output_type": "execute_result",
          "data": {
            "text/plain": [
              "(0.9253904340229333, 0.00015773989834236822, 0.11129864013261485)"
            ]
          },
          "metadata": {
            "tags": []
          },
          "execution_count": 181
        },
        {
          "output_type": "display_data",
          "data": {
            "image/png": "[encoded data removed]",
            "text/plain": [
              "<Figure size 432x288 with 1 Axes>"
            ]
          },
          "metadata": {
            "tags": [],
            "needs_background": "light"
          }
        }
      ]
    },
    {
      "cell_type": "markdown",
      "metadata": {
        "id": "jM58Rq4ihWxE"
      },
      "source": [
        "The above plot shows the cost at each iteration when the learning rate is 0.01 There is a gradual decrease in the cost when compared to the previous plot."
      ]
    },
    {
      "cell_type": "code",
      "metadata": {
        "id": "jdV1h8MP_9-F",
        "colab": {
          "base_uri": "https://localhost:8080/",
          "height": 296
        },
        "outputId": "e7df0deb-a147-442a-bc04-d92e67035b21"
      },
      "source": [
        "gradient_descent(0.001,200,True)"
      ],
      "execution_count": null,
      "outputs": [
        {
          "output_type": "execute_result",
          "data": {
            "text/plain": [
              "(0.31030459907327274, 5.843081974505456e-05, 0.5109825562253043)"
            ]
          },
          "metadata": {
            "tags": []
          },
          "execution_count": 182
        },
        {
          "output_type": "display_data",
          "data": {
            "image/png": "[encoded data removed]",
            "text/plain": [
              "<Figure size 432x288 with 1 Axes>"
            ]
          },
          "metadata": {
            "tags": [],
            "needs_background": "light"
          }
        }
      ]
    },
    {
      "cell_type": "markdown",
      "metadata": {
        "id": "OxS1pBaui9Ns"
      },
      "source": [
        "The above plot shows the cost at each iteration when the learning rate is 0.001 There is a very smooth decrease in the cost and it has not reached minimum even after 200th iteration. This is because the learning rate is very small and it takes more iterations to reach the minimum."
      ]
    },
    {
      "cell_type": "code",
      "metadata": {
        "id": "VdQmAOHuaS2r",
        "colab": {
          "base_uri": "https://localhost:8080/",
          "height": 296
        },
        "outputId": "05a4b901-c56b-464a-f3a6-13791d94bbf1"
      },
      "source": [
        "gradient_descent(0.001,1300,True)"
      ],
      "execution_count": null,
      "outputs": [
        {
          "output_type": "execute_result",
          "data": {
            "text/plain": [
              "(0.872375689446118, 4.1995810624103385e-05, 0.1159367373644358)"
            ]
          },
          "metadata": {
            "tags": []
          },
          "execution_count": 193
        },
        {
          "output_type": "display_data",
          "data": {
            "image/png": "[encoded data removed]",
            "text/plain": [
              "<Figure size 432x288 with 1 Axes>"
            ]
          },
          "metadata": {
            "tags": [],
            "needs_background": "light"
          }
        }
      ]
    },
    {
      "cell_type": "markdown",
      "metadata": {
        "id": "WoHNikQLjvqw"
      },
      "source": [
        "The above plot shows the cost at each iteration when the learning rate is 0.001 for 1300 iterations. We can observe that curve reaches the minimum after 1000 iterations and remains constant."
      ]
    },
    {
      "cell_type": "markdown",
      "metadata": {
        "id": "1NVyDyyhBskm"
      },
      "source": [
        "**Question b)**\n",
        "\n",
        "**ii) Parameters of the trained linear regression**"
      ]
    },
    {
      "cell_type": "code",
      "metadata": {
        "id": "Ux6WIEURD-6H",
        "colab": {
          "base_uri": "https://localhost:8080/",
          "height": 67
        },
        "outputId": "6079366c-33ec-4e9f-fde6-1e6726286e8b"
      },
      "source": [
        "predictions = []\n",
        "for data in normalized_df[0]:\n",
        "  predictions.append(linear_reg(data))\n",
        "theta_1, theta_0, cost = gradient_descent(0.005,1000,False)\n",
        "print(\"theta0 of linear regression is \",theta_0)\n",
        "print(\"theta1 of linear regression is \",theta_1)\n",
        "print(\"cost of linear regression is \",cost)"
      ],
      "execution_count": null,
      "outputs": [
        {
          "output_type": "stream",
          "text": [
            "theta0 of linear regression is  -8.411935575323572e-07\n",
            "theta1 of linear regression is  0.9427331693301438\n",
            "cost of linear regression is  0.11098666790994485\n"
          ],
          "name": "stdout"
        }
      ]
    },
    {
      "cell_type": "markdown",
      "metadata": {
        "id": "DnPmz5qHor5y"
      },
      "source": [
        "The model parameters - theta_1, theta_0, cost are reported using the above piece of code."
      ]
    },
    {
      "cell_type": "code",
      "metadata": {
        "id": "ZbL-MYV2_kN5",
        "colab": {
          "base_uri": "https://localhost:8080/",
          "height": 279
        },
        "outputId": "c68aa506-f14e-41ff-9b63-6543bb97dab5"
      },
      "source": [
        "plt.scatter(normalized_df[0].values,normalized_df[1].values)\n",
        "plt.plot(normalized_df[0], predictions, color='red', linewidth=3)\n",
        "plt.xlabel(\"normalized x\"); plt.ylabel(\"normalized y\")\n",
        "plt.legend([\"Predictions\",\"Normalized data points\"])\n",
        "plt.show()"
      ],
      "execution_count": null,
      "outputs": [
        {
          "output_type": "display_data",
          "data": {
            "image/png": "[encoded data removed]",
            "text/plain": [
              "<Figure size 432x288 with 1 Axes>"
            ]
          },
          "metadata": {
            "tags": [],
            "needs_background": "light"
          }
        }
      ]
    },
    {
      "cell_type": "markdown",
      "metadata": {
        "id": "K8IYll_Epp8J"
      },
      "source": [
        "The above plot represents the normalized data points and the trained linear regression model predictions."
      ]
    },
    {
      "cell_type": "markdown",
      "metadata": {
        "id": "QVh2MPriCwoP"
      },
      "source": [
        "**Question b)**\n",
        "\n",
        "**iii) Baseline model**"
      ]
    },
    {
      "cell_type": "code",
      "metadata": {
        "id": "tVmcM6cyxLYA",
        "colab": {
          "base_uri": "https://localhost:8080/",
          "height": 34
        },
        "outputId": "17b5f56d-0051-4772-e915-2dda9f5aaa3f"
      },
      "source": [
        "baseline_cost = 0\n",
        "n = len(normalized_df[1])\n",
        "for y in normalized_df[1]:\n",
        "  baseline_cost += (1/n)*((y - 0) ** 2)\n",
        "print(baseline_cost)"
      ],
      "execution_count": null,
      "outputs": [
        {
          "output_type": "stream",
          "text": [
            "0.9979959919839669\n"
          ],
          "name": "stdout"
        }
      ]
    },
    {
      "cell_type": "markdown",
      "metadata": {
        "id": "ps7CSRlcpGru"
      },
      "source": [
        "A base model is considered in the above code. This base model always predicts 0 as the output and hence the cost is 0.9979 which is really high when compared to the linear regression model trained using gradient descent which is 0.1109"
      ]
    },
    {
      "cell_type": "markdown",
      "metadata": {
        "id": "s7NQHUoODThQ"
      },
      "source": [
        "**Question b)**\n",
        "\n",
        "**iv) Linear Regression using sklearn**"
      ]
    },
    {
      "cell_type": "code",
      "metadata": {
        "id": "iTISm3LCkux7"
      },
      "source": [
        "X_in = np.array((normalized_df.iloc[:,0]))\n",
        "X_in = X_in.reshape(-1,1)\n",
        "y_in = np.array((normalized_df.iloc[:,1]))\n",
        "y_in = y_in.reshape(-1,1)"
      ],
      "execution_count": null,
      "outputs": []
    },
    {
      "cell_type": "code",
      "metadata": {
        "id": "GlknMN0XAD-B",
        "colab": {
          "base_uri": "https://localhost:8080/",
          "height": 34
        },
        "outputId": "c72f4697-9612-4b96-ec5f-c1f2b10efe4d"
      },
      "source": [
        "from sklearn.linear_model import LinearRegression\n",
        "model = LinearRegression().fit(X_in, y_in)\n",
        "print(model.intercept_, model.coef_)"
      ],
      "execution_count": null,
      "outputs": [
        {
          "output_type": "stream",
          "text": [
            "[-6.80227729e-16] [[0.94275937]]\n"
          ],
          "name": "stdout"
        }
      ]
    },
    {
      "cell_type": "markdown",
      "metadata": {
        "id": "bdFULxe3p4gB"
      },
      "source": [
        "When sklearn was used to train a linear regression model the intercept was -6.80227729e-16 and the slope was 0.94275937 which is very close when compared to the vanilla code model, whose values for intercept and slope was -8.411935575323572e-07 and 0.9427331693301438 respectively."
      ]
    },
    {
      "cell_type": "code",
      "metadata": {
        "id": "HgxjBxqN7FoJ",
        "colab": {
          "base_uri": "https://localhost:8080/",
          "height": 286
        },
        "outputId": "a9ac23c0-5180-473a-bb01-a529d7a1adda"
      },
      "source": [
        "!jupyter nbconvert --to PDF \"/content/drive/My Drive/Colab Notebooks/ML_Assignment_Week1.ipynb\""
      ],
      "execution_count": null,
      "outputs": [
        {
          "output_type": "stream",
          "text": [
            "[NbConvertApp] Converting notebook /content/drive/My Drive/Colab Notebooks/ML_Assignment_Week1.ipynb to PDF\n",
            "[NbConvertApp] Support files will be in ML_Assignment_Week1_files/\n",
            "[NbConvertApp] Making directory ./ML_Assignment_Week1_files\n",
            "[NbConvertApp] Making directory ./ML_Assignment_Week1_files\n",
            "[NbConvertApp] Making directory ./ML_Assignment_Week1_files\n",
            "[NbConvertApp] Making directory ./ML_Assignment_Week1_files\n",
            "[NbConvertApp] Making directory ./ML_Assignment_Week1_files\n",
            "[NbConvertApp] Making directory ./ML_Assignment_Week1_files\n",
            "[NbConvertApp] Making directory ./ML_Assignment_Week1_files\n",
            "[NbConvertApp] Writing 43110 bytes to ./notebook.tex\n",
            "[NbConvertApp] Building PDF\n",
            "[NbConvertApp] Running xelatex 3 times: [u'xelatex', u'./notebook.tex', '-quiet']\n",
            "[NbConvertApp] Running bibtex 1 time: [u'bibtex', u'./notebook']\n",
            "[NbConvertApp] WARNING | bibtex had problems, most likely because there were no citations\n",
            "[NbConvertApp] PDF successfully created\n",
            "[NbConvertApp] Writing 126258 bytes to /content/drive/My Drive/Colab Notebooks/ML_Assignment_Week1.pdf\n"
          ],
          "name": "stdout"
        }
      ]
    },
    {
      "cell_type": "markdown",
      "metadata": {
        "id": "MnLAbqzt8TgI"
      },
      "source": [
        "This segment of code was used to convert the ipynb file to PDF"
      ]
    }
  ]
}