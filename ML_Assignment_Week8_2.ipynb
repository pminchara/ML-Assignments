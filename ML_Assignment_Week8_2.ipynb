{
  "nbformat": 4,
  "nbformat_minor": 0,
  "metadata": {
    "colab": {
      "name": "ML_Assignment_Week8_2.ipynb",
      "provenance": [],
      "authorship_tag": "ABX9TyNYgrJ5ncbR0LJbEEPajTyS",
      "include_colab_link": true
    },
    "kernelspec": {
      "name": "python3",
      "display_name": "Python 3"
    },
    "accelerator": "GPU"
  },
  "cells": [
    {
      "cell_type": "markdown",
      "metadata": {
        "id": "view-in-github",
        "colab_type": "text"
      },
      "source": [
        "<a href=\"https://colab.research.google.com/github/pminchara/ML-Assignments/blob/main/ML_Assignment_Week8_2.ipynb\" target=\"_parent\"><img src=\"https://colab.research.google.com/assets/colab-badge.svg\" alt=\"Open In Colab\"/></a>"
      ]
    },
    {
      "cell_type": "code",
      "metadata": {
        "id": "UtCVcUmQYqyp"
      },
      "source": [
        "import numpy as np\r\n",
        "import tensorflow as tf\r\n",
        "from tensorflow import keras\r\n",
        "from tensorflow.keras import layers, regularizers\r\n",
        "from keras.layers import Dense, Dropout, Activation, Flatten, BatchNormalization\r\n",
        "from keras.layers import Conv2D, MaxPooling2D, LeakyReLU\r\n",
        "from sklearn.metrics import confusion_matrix, classification_report\r\n",
        "from sklearn.utils import shuffle\r\n",
        "import matplotlib.pyplot as plt\r\n",
        "plt.rc('font', size=18)\r\n",
        "plt.rcParams['figure.constrained_layout.use'] = True\r\n",
        "import sys"
      ],
      "execution_count": null,
      "outputs": []
    },
    {
      "cell_type": "code",
      "metadata": {
        "id": "bSwEsjhnZQHo"
      },
      "source": [
        "# Model / data parameters\r\n",
        "num_classes = 10\r\n",
        "input_shape = (32, 32, 3)\r\n",
        "\r\n",
        "# the data, split between train and test sets\r\n",
        "(x_train, y_train), (x_test, y_test) = keras.datasets.cifar10.load_data()\r\n"
      ],
      "execution_count": null,
      "outputs": []
    },
    {
      "cell_type": "code",
      "metadata": {
        "id": "8K4-t-UKb2Gx"
      },
      "source": [
        "n=5000\r\n",
        "x_train = x_train[1:n]; y_train=y_train[1:n]\r\n",
        "#x_test=x_test[1:500]; y_test=y_test[1:500]"
      ],
      "execution_count": null,
      "outputs": []
    },
    {
      "cell_type": "code",
      "metadata": {
        "colab": {
          "base_uri": "https://localhost:8080/"
        },
        "id": "HzsfFogmZp0T",
        "outputId": "2cdf2ae7-1ee9-42b1-b303-0fff92181c35"
      },
      "source": [
        "# Scale images to the [0, 1] range\r\n",
        "x_train = x_train.astype(\"float32\") / 255\r\n",
        "x_test = x_test.astype(\"float32\") / 255\r\n",
        "print(\"orig x_train shape:\", x_train.shape)"
      ],
      "execution_count": null,
      "outputs": [
        {
          "output_type": "stream",
          "text": [
            "orig x_train shape: (4999, 32, 32, 3)\n"
          ],
          "name": "stdout"
        }
      ]
    },
    {
      "cell_type": "code",
      "metadata": {
        "id": "QZtf60noZtXu"
      },
      "source": [
        "# convert class vectors to binary class matrices\r\n",
        "y_train = keras.utils.to_categorical(y_train, num_classes)\r\n",
        "y_test = keras.utils.to_categorical(y_test, num_classes)"
      ],
      "execution_count": null,
      "outputs": []
    },
    {
      "cell_type": "code",
      "metadata": {
        "colab": {
          "base_uri": "https://localhost:8080/",
          "height": 1000
        },
        "id": "efpuIPh7Z7h7",
        "outputId": "4b758a95-7f9b-4431-9d06-8652923be5ae"
      },
      "source": [
        "use_saved_model = False\r\n",
        "if use_saved_model:\r\n",
        "\tmodel = keras.models.load_model(\"cifar.model\")\r\n",
        "else:\r\n",
        "\tmodel = keras.Sequential()\r\n",
        "\tmodel.add(Conv2D(16, (3,3), padding='same', input_shape=x_train.shape[1:],activation='relu'))\r\n",
        "\tmodel.add(Conv2D(16, (3,3), strides=(2,2), padding='same', activation='relu'))\r\n",
        "\tmodel.add(Conv2D(32, (3,3), padding='same', activation='relu'))\r\n",
        "\tmodel.add(Conv2D(32, (3,3), strides=(2,2), padding='same', activation='relu'))\r\n",
        "\tmodel.add(Dropout(0.5))\r\n",
        "\tmodel.add(Flatten())\r\n",
        "\tmodel.add(Dense(num_classes, activation='softmax',kernel_regularizer=regularizers.l1(0.0001)))\r\n",
        "\tmodel.compile(loss=\"categorical_crossentropy\", optimizer='adam', metrics=[\"accuracy\"])\r\n",
        "\tmodel.summary()"
      ],
      "execution_count": null,
      "outputs": [
        {
          "output_type": "stream",
          "text": [
            "Model: \"sequential\"\n",
            "_________________________________________________________________\n",
            "Layer (type)                 Output Shape              Param #   \n",
            "=================================================================\n",
            "conv2d (Conv2D)              (None, 32, 32, 16)        448       \n",
            "_________________________________________________________________\n",
            "conv2d_1 (Conv2D)            (None, 16, 16, 16)        2320      \n",
            "_________________________________________________________________\n",
            "conv2d_2 (Conv2D)            (None, 16, 16, 32)        4640      \n",
            "_________________________________________________________________\n",
            "conv2d_3 (Conv2D)            (None, 8, 8, 32)          9248      \n",
            "_________________________________________________________________\n",
            "dropout (Dropout)            (None, 8, 8, 32)          0         \n",
            "_________________________________________________________________\n",
            "flatten (Flatten)            (None, 2048)              0         \n",
            "_________________________________________________________________\n",
            "dense (Dense)                (None, 10)                20490     \n",
            "=================================================================\n",
            "Total params: 37,146\n",
            "Trainable params: 37,146\n",
            "Non-trainable params: 0\n",
            "_________________________________________________________________\n",
            "Epoch 1/20\n",
            "36/36 [==============================] - 0s 14ms/step - loss: 2.2475 - accuracy: 0.1649 - val_loss: 2.0305 - val_accuracy: 0.2940\n",
            "Epoch 2/20\n",
            "36/36 [==============================] - 0s 6ms/step - loss: 2.0263 - accuracy: 0.2685 - val_loss: 1.9112 - val_accuracy: 0.3460\n",
            "Epoch 3/20\n",
            "36/36 [==============================] - 0s 6ms/step - loss: 1.8560 - accuracy: 0.3443 - val_loss: 1.7880 - val_accuracy: 0.4340\n",
            "Epoch 4/20\n",
            "36/36 [==============================] - 0s 6ms/step - loss: 1.7599 - accuracy: 0.3876 - val_loss: 1.6942 - val_accuracy: 0.4360\n",
            "Epoch 5/20\n",
            "36/36 [==============================] - 0s 6ms/step - loss: 1.6992 - accuracy: 0.4070 - val_loss: 1.6597 - val_accuracy: 0.4060\n",
            "Epoch 6/20\n",
            "36/36 [==============================] - 0s 6ms/step - loss: 1.6251 - accuracy: 0.4312 - val_loss: 1.6125 - val_accuracy: 0.4780\n",
            "Epoch 7/20\n",
            "36/36 [==============================] - 0s 6ms/step - loss: 1.5770 - accuracy: 0.4403 - val_loss: 1.5956 - val_accuracy: 0.4860\n",
            "Epoch 8/20\n",
            "36/36 [==============================] - 0s 6ms/step - loss: 1.5597 - accuracy: 0.4554 - val_loss: 1.6039 - val_accuracy: 0.4860\n",
            "Epoch 9/20\n",
            "36/36 [==============================] - 0s 6ms/step - loss: 1.5281 - accuracy: 0.4677 - val_loss: 1.5771 - val_accuracy: 0.4720\n",
            "Epoch 10/20\n",
            "36/36 [==============================] - 0s 6ms/step - loss: 1.5035 - accuracy: 0.4730 - val_loss: 1.5485 - val_accuracy: 0.4860\n",
            "Epoch 11/20\n",
            "36/36 [==============================] - 0s 6ms/step - loss: 1.4907 - accuracy: 0.4745 - val_loss: 1.5528 - val_accuracy: 0.4800\n",
            "Epoch 12/20\n",
            "36/36 [==============================] - 0s 5ms/step - loss: 1.4333 - accuracy: 0.5034 - val_loss: 1.5427 - val_accuracy: 0.4780\n",
            "Epoch 13/20\n",
            "36/36 [==============================] - 0s 6ms/step - loss: 1.4129 - accuracy: 0.5137 - val_loss: 1.5646 - val_accuracy: 0.4520\n",
            "Epoch 14/20\n",
            "36/36 [==============================] - 0s 5ms/step - loss: 1.3905 - accuracy: 0.5214 - val_loss: 1.6388 - val_accuracy: 0.4460\n",
            "Epoch 15/20\n",
            "36/36 [==============================] - 0s 6ms/step - loss: 1.3774 - accuracy: 0.5192 - val_loss: 1.5377 - val_accuracy: 0.4820\n",
            "Epoch 16/20\n",
            "36/36 [==============================] - 0s 6ms/step - loss: 1.3461 - accuracy: 0.5348 - val_loss: 1.4915 - val_accuracy: 0.5120\n",
            "Epoch 17/20\n",
            "36/36 [==============================] - 0s 6ms/step - loss: 1.3256 - accuracy: 0.5437 - val_loss: 1.4999 - val_accuracy: 0.4780\n",
            "Epoch 18/20\n",
            "36/36 [==============================] - 0s 6ms/step - loss: 1.3182 - accuracy: 0.5421 - val_loss: 1.5011 - val_accuracy: 0.5100\n",
            "Epoch 19/20\n",
            "36/36 [==============================] - 0s 5ms/step - loss: 1.2927 - accuracy: 0.5510 - val_loss: 1.4974 - val_accuracy: 0.4840\n",
            "Epoch 20/20\n",
            "36/36 [==============================] - 0s 5ms/step - loss: 1.2712 - accuracy: 0.5588 - val_loss: 1.5166 - val_accuracy: 0.4680\n",
            "WARNING:tensorflow:From /usr/local/lib/python3.6/dist-packages/tensorflow/python/training/tracking/tracking.py:111: Model.state_updates (from tensorflow.python.keras.engine.training) is deprecated and will be removed in a future version.\n",
            "Instructions for updating:\n",
            "This property should not be used in TensorFlow 2.0, as updates are applied automatically.\n",
            "WARNING:tensorflow:From /usr/local/lib/python3.6/dist-packages/tensorflow/python/training/tracking/tracking.py:111: Layer.updates (from tensorflow.python.keras.engine.base_layer) is deprecated and will be removed in a future version.\n",
            "Instructions for updating:\n",
            "This property should not be used in TensorFlow 2.0, as updates are applied automatically.\n",
            "INFO:tensorflow:Assets written to: cifar.model/assets\n"
          ],
          "name": "stdout"
        },
        {
          "output_type": "display_data",
          "data": {
            "image/png": "[encoded data removed]",
            "text/plain": [
              "<Figure size 432x288 with 2 Axes>"
            ]
          },
          "metadata": {
            "tags": [],
            "needs_background": "light"
          }
        }
      ]
    },
    {
      "cell_type": "code",
      "metadata": {
        "id": "WxeA3Dk9mD-f"
      },
      "source": [
        "\tbatch_size = 128\r\n",
        "\tepochs = 20\r\n",
        "\thistory = model.fit(x_train, y_train, batch_size=batch_size, epochs=epochs, validation_split=0.1)\r\n",
        "\tmodel.save(\"cifar.model\")\r\n",
        "\tplt.subplot(211)\r\n",
        "\tplt.plot(history.history['accuracy'])\r\n",
        "\tplt.plot(history.history['val_accuracy'])\r\n",
        "\tplt.title('model accuracy')\r\n",
        "\tplt.ylabel('accuracy')\r\n",
        "\tplt.xlabel('epoch')\r\n",
        "\tplt.legend(['train', 'val'], loc='upper left')\r\n",
        "\tplt.subplot(212)\r\n",
        "\tplt.plot(history.history['loss'])\r\n",
        "\tplt.plot(history.history['val_loss'])\r\n",
        "\tplt.title('model loss')\r\n",
        "\tplt.ylabel('loss'); plt.xlabel('epoch')\r\n",
        "\tplt.legend(['train', 'val'], loc='upper left')\r\n",
        "\tplt.show()"
      ],
      "execution_count": null,
      "outputs": []
    },
    {
      "cell_type": "code",
      "metadata": {
        "colab": {
          "base_uri": "https://localhost:8080/"
        },
        "id": "d9xjOVdfaDdH",
        "outputId": "f6a314d3-319b-4c34-97a0-41fe804e22ac"
      },
      "source": [
        "preds = model.predict(x_train)\r\n",
        "y_pred = np.argmax(preds, axis=1)\r\n",
        "y_train1 = np.argmax(y_train, axis=1)\r\n",
        "print(classification_report(y_train1, y_pred))\r\n",
        "print(confusion_matrix(y_train1,y_pred))"
      ],
      "execution_count": null,
      "outputs": [
        {
          "output_type": "stream",
          "text": [
            "              precision    recall  f1-score   support\n",
            "\n",
            "           0       0.69      0.56      0.62       505\n",
            "           1       0.89      0.55      0.68       460\n",
            "           2       0.45      0.65      0.53       519\n",
            "           3       0.59      0.37      0.46       486\n",
            "           4       0.50      0.57      0.53       519\n",
            "           5       0.50      0.63      0.56       488\n",
            "           6       0.73      0.58      0.65       518\n",
            "           7       0.61      0.69      0.65       486\n",
            "           8       0.66      0.75      0.70       520\n",
            "           9       0.70      0.68      0.69       498\n",
            "\n",
            "    accuracy                           0.61      4999\n",
            "   macro avg       0.63      0.60      0.61      4999\n",
            "weighted avg       0.63      0.61      0.61      4999\n",
            "\n",
            "[[285   3  50   6  17   8   2  32  86  16]\n",
            " [ 16 251   9   4   9  12  11   8  56  84]\n",
            " [  8   1 339  19  60  40  12  23  14   3]\n",
            " [  7   0  74 182  40 105  40  22   6  10]\n",
            " [  9   0 100  11 295  41  10  44   6   3]\n",
            " [  3   0  54  34  33 309  20  31   3   1]\n",
            " [  1   1  60  22  77  36 299  15   3   4]\n",
            " [  7   2  37  14  42  37   3 337   2   5]\n",
            " [ 58   3  17   2   9  10   3   7 389  22]\n",
            " [ 18  20  16  13   5  17   7  34  28 340]]\n"
          ],
          "name": "stdout"
        }
      ]
    },
    {
      "cell_type": "code",
      "metadata": {
        "colab": {
          "base_uri": "https://localhost:8080/"
        },
        "id": "dtdTYiykaJlb",
        "outputId": "f87389e9-8120-41a2-e7cd-e0cd77da0967"
      },
      "source": [
        "preds = model.predict(x_test)\r\n",
        "y_pred = np.argmax(preds, axis=1)\r\n",
        "y_test1 = np.argmax(y_test, axis=1)\r\n",
        "print(classification_report(y_test1, y_pred))\r\n",
        "print(confusion_matrix(y_test1,y_pred))"
      ],
      "execution_count": null,
      "outputs": [
        {
          "output_type": "stream",
          "text": [
            "              precision    recall  f1-score   support\n",
            "\n",
            "           0       0.56      0.48      0.52      1000\n",
            "           1       0.80      0.45      0.57      1000\n",
            "           2       0.33      0.53      0.41      1000\n",
            "           3       0.35      0.19      0.25      1000\n",
            "           4       0.35      0.40      0.38      1000\n",
            "           5       0.37      0.45      0.41      1000\n",
            "           6       0.58      0.47      0.52      1000\n",
            "           7       0.51      0.57      0.54      1000\n",
            "           8       0.54      0.67      0.60      1000\n",
            "           9       0.60      0.55      0.57      1000\n",
            "\n",
            "    accuracy                           0.48     10000\n",
            "   macro avg       0.50      0.48      0.48     10000\n",
            "weighted avg       0.50      0.48      0.48     10000\n",
            "\n",
            "[[485  12 127  14  34  25  12  42 215  34]\n",
            " [ 61 448  18  12  17  35  13  41 134 221]\n",
            " [ 46   1 534  35 139  90  50  66  28  11]\n",
            " [ 23   1 177 190 111 285 110  74  17  12]\n",
            " [ 27   1 291  26 400  74  52 108  17   4]\n",
            " [ 12   0 166 110 104 453  44  80  21  10]\n",
            " [  3   5 145  90 169  68 465  38   5  12]\n",
            " [ 23   1  78  34 111 138  17 572   7  19]\n",
            " [113  33  41  12  23  21  11  25 674  47]\n",
            " [ 69  61  31  15  21  33  29  69 127 545]]\n"
          ],
          "name": "stdout"
        }
      ]
    },
    {
      "cell_type": "markdown",
      "metadata": {
        "id": "wEX7Xm3n9DcE"
      },
      "source": [
        "\r\n",
        "Pooling Layer: This layer has a substantial impact of spatial dimensions of an image. The primary function of a pooling layer is to progressively reduce the spatial dimension of an input volume. Pooling reduces the number of parameters and computation in the network. In this assignment, I have used MaxPooling as instructed. MaxPooling is majorly used in middle layers of a CNN. There is another variant called AveragePooling and is used in the final/fully connected layers of a CNN model.\r\n",
        "Fully Connected Layer: The last layer in a CNN model and is used after sequence of convolution and pooling layers. Neurons in Fully Connected Layer are connected to all connections in the previous layer. The output of a fully connected layer is a vector of dimension equal to the number of neurons and the fully connected layer contains the neurons equal to the number of classes[9]."
      ]
    }
  ]
}